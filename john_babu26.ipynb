{
  "nbformat": 4,
  "nbformat_minor": 0,
  "metadata": {
    "colab": {
      "name": "john babu26",
      "provenance": [],
      "collapsed_sections": [],
      "include_colab_link": true
    },
    "kernelspec": {
      "name": "python3",
      "display_name": "Python 3"
    }
  },
  "cells": [
    {
      "cell_type": "markdown",
      "metadata": {
        "id": "view-in-github",
        "colab_type": "text"
      },
      "source": [
        "<a href=\"https://colab.research.google.com/github/johnbabucp/Data-Science-Lab/blob/main/john_babu26.ipynb\" target=\"_parent\"><img src=\"https://colab.research.google.com/assets/colab-badge.svg\" alt=\"Open In Colab\"/></a>"
      ]
    },
    {
      "cell_type": "markdown",
      "metadata": {
        "id": "2FbiXuSJANTj"
      },
      "source": [
        "#  Matrix Operations"
      ]
    },
    {
      "cell_type": "markdown",
      "metadata": {
        "id": "a7HGCnyGS_tA"
      },
      "source": [
        "#### Matrices"
      ]
    },
    {
      "cell_type": "code",
      "metadata": {
        "id": "epy_5UAiM5va",
        "colab": {
          "base_uri": "https://localhost:8080/"
        },
        "outputId": "b7bfd9db-4640-4cdb-fc87-5522af8289ed"
      },
      "source": [
        "# Create a matrix using the 'matrix()' function of the 'numpy' module.\n",
        "import numpy as np\n",
        "x=np.matrix([[8,7],[3,5]])\n",
        "print(type(x))\n",
        "x\n",
        "\n",
        "\n"
      ],
      "execution_count": null,
      "outputs": [
        {
          "output_type": "stream",
          "name": "stdout",
          "text": [
            "<class 'numpy.matrix'>\n"
          ]
        },
        {
          "output_type": "execute_result",
          "data": {
            "text/plain": [
              "matrix([[8, 7],\n",
              "        [3, 5]])"
            ]
          },
          "metadata": {},
          "execution_count": 3
        }
      ]
    },
    {
      "cell_type": "code",
      "metadata": {
        "id": "vNZ6B267NSBn",
        "colab": {
          "base_uri": "https://localhost:8080/"
        },
        "outputId": "9d2042dc-f4c6-4eb8-bba7-d9d3576aa773"
      },
      "source": [
        "# Convert a nested Python list into a matrix using the 'matrix()' function of the 'numpy' module.\n",
        "x=np.matrix([[8,7],[3,5]])\n",
        "print(type(x))\n",
        "x"
      ],
      "execution_count": null,
      "outputs": [
        {
          "output_type": "stream",
          "name": "stdout",
          "text": [
            "<class 'numpy.matrix'>\n"
          ]
        },
        {
          "output_type": "execute_result",
          "data": {
            "text/plain": [
              "matrix([[8, 7],\n",
              "        [3, 5]])"
            ]
          },
          "metadata": {},
          "execution_count": 4
        }
      ]
    },
    {
      "cell_type": "markdown",
      "metadata": {
        "id": "aMYY5QGVS7AR"
      },
      "source": [
        "#### Matrix Multiplication\n"
      ]
    },
    {
      "cell_type": "markdown",
      "metadata": {
        "id": "F02GWaeOOv8B"
      },
      "source": [
        "\n",
        "$$\\begin{bmatrix} 8 & 7 \\\\ 3\t& -5\t\\\\\\end{bmatrix} \\begin{bmatrix} 3 \\\\ 2 \\\\\\end{bmatrix}$$\n",
        "\n",
        "To multiply two matrices, you have to use the `matmul()` function of the `numpy` module. It takes two matrices to be multiplied as inputs and returns a new matrix."
      ]
    },
    {
      "cell_type": "code",
      "metadata": {
        "id": "LXouPp0rNmfl",
        "colab": {
          "base_uri": "https://localhost:8080/"
        },
        "outputId": "9b83b442-b780-4904-eee7-7a8d9fc1795e"
      },
      "source": [
        "# Multiplication of the above two matrices.\n",
        "x=np.matrix('8 7;3 -5')\n",
        "y=np.matrix('3;2')\n",
        "z=np.matmul(x,y)\n",
        "z"
      ],
      "execution_count": null,
      "outputs": [
        {
          "output_type": "execute_result",
          "data": {
            "text/plain": [
              "matrix([[38],\n",
              "        [-1]])"
            ]
          },
          "metadata": {},
          "execution_count": 5
        }
      ]
    },
    {
      "cell_type": "markdown",
      "metadata": {
        "id": "25p437ShPXO1"
      },
      "source": [
        "**Note:** The number of columns in the first matrix should be the same as the number of rows in the second matrix. Otherwise, you will get `ValueError`"
      ]
    },
    {
      "cell_type": "markdown",
      "metadata": {
        "id": "plpe2GRqTGlK"
      },
      "source": [
        "####  Identity Matrix"
      ]
    },
    {
      "cell_type": "code",
      "metadata": {
        "id": "6eewfaY_XHFk",
        "colab": {
          "base_uri": "https://localhost:8080/"
        },
        "outputId": "f1da1349-965e-4603-dae2-99b7ce95bd5b"
      },
      "source": [
        "# Create an identity matrix of the dimension 5 and of 'int' type.\n",
        "identity_matrix=np.identity(5,dtype=int)\n",
        "identity_matrix"
      ],
      "execution_count": null,
      "outputs": [
        {
          "output_type": "execute_result",
          "data": {
            "text/plain": [
              "array([[1, 0, 0, 0, 0],\n",
              "       [0, 1, 0, 0, 0],\n",
              "       [0, 0, 1, 0, 0],\n",
              "       [0, 0, 0, 1, 0],\n",
              "       [0, 0, 0, 0, 1]])"
            ]
          },
          "metadata": {},
          "execution_count": 8
        }
      ]
    },
    {
      "cell_type": "markdown",
      "metadata": {
        "id": "WZQuoEgxX4yz"
      },
      "source": [
        "Now let's multiply a square matrix with an identity matrix of the same dimension (say 3)."
      ]
    },
    {
      "cell_type": "code",
      "metadata": {
        "id": "D44dik-GWOzp",
        "colab": {
          "base_uri": "https://localhost:8080/"
        },
        "outputId": "f6acc0eb-511d-48c5-88e0-1123a3682a4d"
      },
      "source": [
        "# Multiply a square matrix with an identity matrix of the same dimension.\n",
        "some_matrix=np.matrix('1 2 3;4 5 6;7 8 9')\n",
        "identity_matrix=np.identity(3,dtype=float)\n",
        "mat_mult=np.matmul(some_matrix,identity_matrix)\n",
        "mat_mult"
      ],
      "execution_count": null,
      "outputs": [
        {
          "output_type": "execute_result",
          "data": {
            "text/plain": [
              "matrix([[1., 2., 3.],\n",
              "        [4., 5., 6.],\n",
              "        [7., 8., 9.]])"
            ]
          },
          "metadata": {},
          "execution_count": 10
        }
      ]
    },
    {
      "cell_type": "markdown",
      "metadata": {
        "id": "vkRY_gZbM1gX"
      },
      "source": [
        "----"
      ]
    },
    {
      "cell_type": "markdown",
      "metadata": {
        "id": "DoLDbDJ-YUj0"
      },
      "source": [
        "####  Multiplicative Inverse of a Matrix^\n",
        "\n",
        "\n",
        "Eg. let $A$ be a matrix of dimension $3$\n",
        "\n",
        "$$A = \\begin{bmatrix} 1 & 3 & 3 \\\\ 1 & 4 & 3 \\\\ 1 & 3 & 4 \\\\\\end{bmatrix}$$\n",
        "\n",
        "Then its inverse is\n",
        "\n",
        "$$A^{-1} = \\begin{bmatrix} 7 & - 3 & -3 \\\\ -1 & 1 & 0 \\\\ -1 & 0 & 1 \\\\\\end{bmatrix}$$\n",
        "\n",
        "Both $A$ and $A^{-1}$ have the same dimension.\n",
        "\n",
        "If you multiply the matrix $A$ with its inverse, you should get the identity matrix of dimension $3$.\n",
        "\n",
        "$$A^{-1} A = \\begin{bmatrix} 7 & - 3 & -3 \\\\ -1 & 1 & 0 \\\\ -1 & 0 & 1 \\\\\\end{bmatrix} \\begin{bmatrix} 1 & 3 & 3 \\\\ 1 & 4 & 3 \\\\ 1 & 3 & 4 \\\\\\end{bmatrix}$$\n",
        "\n",
        "$$\\Rightarrow A^{-1}A = \\begin{bmatrix} 7 \\times 1 - 3 \\times 1 -3 \\times 1 &7 \\times 3 - 3 \\times 4 -3 \\times 3 & 7 \\times 3 - 3 \\times 3 - 3 \\times 4 \\\\ -1 \\times 1 + 1 \\times 1 + 0 \\times 1 & -1 \\times 3 + 1 \\times 4 + 0 \\times 3 & -1 \\times 3 + 1 \\times 3 + 0 \\times 4 \\\\ -1 \\times 1 + 0 \\times 1 + 1 \\times 1 & -1 \\times 3 + 0 \\times 4 + 1 \\times 3 & -1 \\times 3 + 0 \\times 3 + 1 \\times 4 \\\\\\end{bmatrix}$$\n",
        "\n",
        "$$\\Rightarrow A^{-1}A = \\begin{bmatrix} 1 & 0 & 0 \\\\ 0 & 1 & 0 \\\\ 0 & 0 & 1 \\\\\\end{bmatrix}$$\n"
      ]
    },
    {
      "cell_type": "code",
      "metadata": {
        "id": "LwCmDs6_MXCn",
        "colab": {
          "base_uri": "https://localhost:8080/"
        },
        "outputId": "9c2e965a-ab2c-4ae0-9d34-b93dc6549e0c"
      },
      "source": [
        "#Multiply the above matrix with its inverse.\n",
        "mat1=np.matrix('1 3 3;1 4 3;1 3 4')\n",
        "inv=np.matrix('7 -3 -3; -1 1 0;-1 0 1')\n",
        "res=np.matmul(mat1,inv)\n",
        "res"
      ],
      "execution_count": null,
      "outputs": [
        {
          "output_type": "execute_result",
          "data": {
            "text/plain": [
              "matrix([[1, 0, 0],\n",
              "        [0, 1, 0],\n",
              "        [0, 0, 1]])"
            ]
          },
          "metadata": {},
          "execution_count": 12
        }
      ]
    },
    {
      "cell_type": "markdown",
      "metadata": {
        "id": "6dGeH1NbkZZl"
      },
      "source": [
        "#### Determinant of a Matrix^^\n",
        "\n",
        "\n",
        "$$X = \\begin{bmatrix} 8 & 7 \\\\ 3\t& -5 \\\\\\end{bmatrix}$$\n",
        "\n",
        " To calculate the determinant value of a square matrix, use the `linalg.det()` function of the `numpy` module.\n",
        "\n",
        "**Syntax:** `np.linalg.det(a)`\n",
        "\n",
        "where `a` is some square matrix."
      ]
    },
    {
      "cell_type": "code",
      "metadata": {
        "id": "Ai-xRdWtzXOu",
        "colab": {
          "base_uri": "https://localhost:8080/"
        },
        "outputId": "15d0de8c-7acf-445e-8d57-5c6297d5a784"
      },
      "source": [
        "# Calculate the determinant of the matrix X.\n",
        "x=np.matrix('8 -7 ; 3 -5')\n",
        "det=np.linalg.det(x)\n",
        "det"
      ],
      "execution_count": null,
      "outputs": [
        {
          "output_type": "execute_result",
          "data": {
            "text/plain": [
              "-18.999999999999996"
            ]
          },
          "metadata": {},
          "execution_count": 15
        }
      ]
    },
    {
      "cell_type": "markdown",
      "metadata": {
        "id": "-Y5wSAT5bios"
      },
      "source": [
        "Let's calculate the determinant of the matrix\n",
        "\n",
        "$$A = \\begin{bmatrix} 1 & 3 & 3 \\\\ 1 & 4 & 3 \\\\ 1 & 3 & 4 \\\\\\end{bmatrix}$$\n",
        "\n",
        "using Python."
      ]
    },
    {
      "cell_type": "code",
      "metadata": {
        "id": "20_XDKC4Az-g",
        "colab": {
          "base_uri": "https://localhost:8080/"
        },
        "outputId": "bed69350-cb49-45a0-c12b-37ee49a13a1d"
      },
      "source": [
        "#Calculate the determinant of the above matrix A.\n",
        "x=np.matrix('1 3 3;1 4 3;1 3 4')\n",
        "det=np.linalg.det(x)\n",
        "det"
      ],
      "execution_count": null,
      "outputs": [
        {
          "output_type": "execute_result",
          "data": {
            "text/plain": [
              "1.0"
            ]
          },
          "metadata": {},
          "execution_count": 16
        }
      ]
    },
    {
      "cell_type": "code",
      "metadata": {
        "id": "jSCBQqbWL8Ul",
        "colab": {
          "base_uri": "https://localhost:8080/"
        },
        "outputId": "494196b5-fbf5-47c4-d01d-3fd4d480b120"
      },
      "source": [
        "# Calculate the inverse of the above matrix A.\n",
        "x=np.matrix('1 3 3;1 4 3; 1 3 4')\n",
        "inv=np.linalg.inv(x)\n",
        "inv"
      ],
      "execution_count": null,
      "outputs": [
        {
          "output_type": "execute_result",
          "data": {
            "text/plain": [
              "matrix([[ 7., -3., -3.],\n",
              "        [-1.,  1.,  0.],\n",
              "        [-1.,  0.,  1.]])"
            ]
          },
          "metadata": {},
          "execution_count": 17
        }
      ]
    },
    {
      "cell_type": "code",
      "metadata": {
        "id": "-9gj_oaLehon",
        "colab": {
          "base_uri": "https://localhost:8080/",
          "height": 175
        },
        "outputId": "f932aad7-fb6a-454d-c8c9-ca53db83e9fe"
      },
      "source": [
        "#Create a dictionary to store weatherdata and convert it to a dtaframe\n",
        "import pandas as pd\n",
        "weatherdata={'temp':[-5,40,55,60], 'humidity' :[1,45,34,23],'windspeed' :[23,45,12,34]}\n",
        "# Display the first five rows of dataframe\n",
        "df=pd.DataFrame(weatherdata)\n",
        "df.head()\n",
        "#Display the last five rows of dataframe\n",
        "df.tail()\n"
      ],
      "execution_count": null,
      "outputs": [
        {
          "output_type": "execute_result",
          "data": {
            "text/html": [
              "<div>\n",
              "<style scoped>\n",
              "    .dataframe tbody tr th:only-of-type {\n",
              "        vertical-align: middle;\n",
              "    }\n",
              "\n",
              "    .dataframe tbody tr th {\n",
              "        vertical-align: top;\n",
              "    }\n",
              "\n",
              "    .dataframe thead th {\n",
              "        text-align: right;\n",
              "    }\n",
              "</style>\n",
              "<table border=\"1\" class=\"dataframe\">\n",
              "  <thead>\n",
              "    <tr style=\"text-align: right;\">\n",
              "      <th></th>\n",
              "      <th>temp</th>\n",
              "      <th>humidity</th>\n",
              "      <th>windspeed</th>\n",
              "    </tr>\n",
              "  </thead>\n",
              "  <tbody>\n",
              "    <tr>\n",
              "      <th>0</th>\n",
              "      <td>-5</td>\n",
              "      <td>1</td>\n",
              "      <td>23</td>\n",
              "    </tr>\n",
              "    <tr>\n",
              "      <th>1</th>\n",
              "      <td>40</td>\n",
              "      <td>45</td>\n",
              "      <td>45</td>\n",
              "    </tr>\n",
              "    <tr>\n",
              "      <th>2</th>\n",
              "      <td>55</td>\n",
              "      <td>34</td>\n",
              "      <td>12</td>\n",
              "    </tr>\n",
              "    <tr>\n",
              "      <th>3</th>\n",
              "      <td>60</td>\n",
              "      <td>23</td>\n",
              "      <td>34</td>\n",
              "    </tr>\n",
              "  </tbody>\n",
              "</table>\n",
              "</div>"
            ],
            "text/plain": [
              "   temp  humidity  windspeed\n",
              "0    -5         1         23\n",
              "1    40        45         45\n",
              "2    55        34         12\n",
              "3    60        23         34"
            ]
          },
          "metadata": {},
          "execution_count": 25
        }
      ]
    }
  ]
}
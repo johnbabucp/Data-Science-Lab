{
  "nbformat": 4,
  "nbformat_minor": 0,
  "metadata": {
    "colab": {
      "name": "john babu 26",
      "provenance": [],
      "collapsed_sections": [],
      "include_colab_link": true
    },
    "kernelspec": {
      "name": "python3",
      "display_name": "Python 3"
    },
    "language_info": {
      "name": "python"
    }
  },
  "cells": [
    {
      "cell_type": "markdown",
      "metadata": {
        "id": "view-in-github",
        "colab_type": "text"
      },
      "source": [
        "<a href=\"https://colab.research.google.com/github/johnbabucp/Data-Science-Lab/blob/main/john_babu_26.ipynb\" target=\"_parent\"><img src=\"https://colab.research.google.com/assets/colab-badge.svg\" alt=\"Open In Colab\"/></a>"
      ]
    },
    {
      "cell_type": "markdown",
      "source": [
        "**Aim:** Program to implement decision trees using any standard dataset available in the public domain and find the accuracy of the algorithm.\n",
        "\n",
        "**Short notes**\n",
        "\n",
        "Decision tree is a type of supervised learning algorithm (having a predefined target variable) that is mostly used in classification problems. It works for both categorical and continuous input and output variables. In this technique, we split the population or sample into two or more homogeneous sets (or sub-populations) based on most significant splitter / differentiator in input variables.\n",
        "\n",
        "**Used Python Packages**:\n",
        "\n",
        "sklearn :\n",
        "In python, sklearn is a machine learning package which include a lot of ML algorithms. Here, we are using some of its modules like train_test_split, DecisionTreeClassifier and accuracy_score.\n",
        "\n",
        "NumPy :\n",
        "It is a numeric python module which provides fast maths functions for calculations.\n",
        "It is used to read data in numpy arrays and for manipulation purpose.\n",
        "\n",
        "Pandas :\n",
        "Used to read and write different files.\n",
        "Data manipulation can be done easily with dataframes.\n",
        "\n",
        "**Important Terminology related to Tree based Algorithms**\n",
        "\n",
        "**Root Node**: It represents entire population or sample and this further gets divided into two or more homogeneous sets.\n",
        "\n",
        "**Splitting**: It is a process of dividing a node into two or more sub-nodes.\n",
        "\n",
        "**Decision Node**: When a sub-node splits into further sub-nodes, then it is called decision node.\n",
        "\n",
        "**Leaf/ Terminal Node**: Nodes do not split is called Leaf or Terminal node.\n",
        "\n",
        "**Pruning**: When we remove sub-nodes of a decision node, this process is called pruning. You can say opposite process of splitting.\n",
        "\n",
        "**Branch / Sub-Tree**: A sub section of entire tree is called branch or sub-tree.\n",
        "\n",
        "**Parent and Child Node**: A node, which is divided into sub-nodes is called parent node of sub-nodes where as sub-nodes are the child of parent node."
      ],
      "metadata": {
        "id": "_kMMzfqGx6Hr"
      }
    },
    {
      "cell_type": "code",
      "source": [
        "#import the modules"
      ],
      "metadata": {
        "id": "UpR_j728kqGq"
      },
      "execution_count": null,
      "outputs": []
    },
    {
      "cell_type": "code",
      "source": [
        "import pandas as pd\n",
        "import numpy as np\n",
        "irisdata=pd.read_csv(\"https://raw.githubusercontent.com/jiss-sngce/CO1/main/iris-species.csv\")\n",
        "irisdata.head()"
      ],
      "metadata": {
        "id": "i4hLo1LCnCJX",
        "colab": {
          "base_uri": "https://localhost:8080/",
          "height": 206
        },
        "outputId": "5b9a72be-ff09-4b1c-de30-745e067b65cb"
      },
      "execution_count": null,
      "outputs": [
        {
          "output_type": "execute_result",
          "data": {
            "text/html": [
              "\n",
              "  <div id=\"df-bf1d0e8b-d216-4e8a-8289-829cf8fdeea3\">\n",
              "    <div class=\"colab-df-container\">\n",
              "      <div>\n",
              "<style scoped>\n",
              "    .dataframe tbody tr th:only-of-type {\n",
              "        vertical-align: middle;\n",
              "    }\n",
              "\n",
              "    .dataframe tbody tr th {\n",
              "        vertical-align: top;\n",
              "    }\n",
              "\n",
              "    .dataframe thead th {\n",
              "        text-align: right;\n",
              "    }\n",
              "</style>\n",
              "<table border=\"1\" class=\"dataframe\">\n",
              "  <thead>\n",
              "    <tr style=\"text-align: right;\">\n",
              "      <th></th>\n",
              "      <th>Id</th>\n",
              "      <th>SepalLengthCm</th>\n",
              "      <th>SepalWidthCm</th>\n",
              "      <th>PetalLengthCm</th>\n",
              "      <th>PetalWidthCm</th>\n",
              "      <th>Species</th>\n",
              "    </tr>\n",
              "  </thead>\n",
              "  <tbody>\n",
              "    <tr>\n",
              "      <th>0</th>\n",
              "      <td>1</td>\n",
              "      <td>5.1</td>\n",
              "      <td>3.5</td>\n",
              "      <td>1.4</td>\n",
              "      <td>0.2</td>\n",
              "      <td>Iris-setosa</td>\n",
              "    </tr>\n",
              "    <tr>\n",
              "      <th>1</th>\n",
              "      <td>2</td>\n",
              "      <td>4.9</td>\n",
              "      <td>3.0</td>\n",
              "      <td>1.4</td>\n",
              "      <td>0.2</td>\n",
              "      <td>Iris-setosa</td>\n",
              "    </tr>\n",
              "    <tr>\n",
              "      <th>2</th>\n",
              "      <td>3</td>\n",
              "      <td>4.7</td>\n",
              "      <td>3.2</td>\n",
              "      <td>1.3</td>\n",
              "      <td>0.2</td>\n",
              "      <td>Iris-setosa</td>\n",
              "    </tr>\n",
              "    <tr>\n",
              "      <th>3</th>\n",
              "      <td>4</td>\n",
              "      <td>4.6</td>\n",
              "      <td>3.1</td>\n",
              "      <td>1.5</td>\n",
              "      <td>0.2</td>\n",
              "      <td>Iris-setosa</td>\n",
              "    </tr>\n",
              "    <tr>\n",
              "      <th>4</th>\n",
              "      <td>5</td>\n",
              "      <td>5.0</td>\n",
              "      <td>3.6</td>\n",
              "      <td>1.4</td>\n",
              "      <td>0.2</td>\n",
              "      <td>Iris-setosa</td>\n",
              "    </tr>\n",
              "  </tbody>\n",
              "</table>\n",
              "</div>\n",
              "      <button class=\"colab-df-convert\" onclick=\"convertToInteractive('df-bf1d0e8b-d216-4e8a-8289-829cf8fdeea3')\"\n",
              "              title=\"Convert this dataframe to an interactive table.\"\n",
              "              style=\"display:none;\">\n",
              "        \n",
              "  <svg xmlns=\"http://www.w3.org/2000/svg\" height=\"24px\"viewBox=\"0 0 24 24\"\n",
              "       width=\"24px\">\n",
              "    <path d=\"M0 0h24v24H0V0z\" fill=\"none\"/>\n",
              "    <path d=\"M18.56 5.44l.94 2.06.94-2.06 2.06-.94-2.06-.94-.94-2.06-.94 2.06-2.06.94zm-11 1L8.5 8.5l.94-2.06 2.06-.94-2.06-.94L8.5 2.5l-.94 2.06-2.06.94zm10 10l.94 2.06.94-2.06 2.06-.94-2.06-.94-.94-2.06-.94 2.06-2.06.94z\"/><path d=\"M17.41 7.96l-1.37-1.37c-.4-.4-.92-.59-1.43-.59-.52 0-1.04.2-1.43.59L10.3 9.45l-7.72 7.72c-.78.78-.78 2.05 0 2.83L4 21.41c.39.39.9.59 1.41.59.51 0 1.02-.2 1.41-.59l7.78-7.78 2.81-2.81c.8-.78.8-2.07 0-2.86zM5.41 20L4 18.59l7.72-7.72 1.47 1.35L5.41 20z\"/>\n",
              "  </svg>\n",
              "      </button>\n",
              "      \n",
              "  <style>\n",
              "    .colab-df-container {\n",
              "      display:flex;\n",
              "      flex-wrap:wrap;\n",
              "      gap: 12px;\n",
              "    }\n",
              "\n",
              "    .colab-df-convert {\n",
              "      background-color: #E8F0FE;\n",
              "      border: none;\n",
              "      border-radius: 50%;\n",
              "      cursor: pointer;\n",
              "      display: none;\n",
              "      fill: #1967D2;\n",
              "      height: 32px;\n",
              "      padding: 0 0 0 0;\n",
              "      width: 32px;\n",
              "    }\n",
              "\n",
              "    .colab-df-convert:hover {\n",
              "      background-color: #E2EBFA;\n",
              "      box-shadow: 0px 1px 2px rgba(60, 64, 67, 0.3), 0px 1px 3px 1px rgba(60, 64, 67, 0.15);\n",
              "      fill: #174EA6;\n",
              "    }\n",
              "\n",
              "    [theme=dark] .colab-df-convert {\n",
              "      background-color: #3B4455;\n",
              "      fill: #D2E3FC;\n",
              "    }\n",
              "\n",
              "    [theme=dark] .colab-df-convert:hover {\n",
              "      background-color: #434B5C;\n",
              "      box-shadow: 0px 1px 3px 1px rgba(0, 0, 0, 0.15);\n",
              "      filter: drop-shadow(0px 1px 2px rgba(0, 0, 0, 0.3));\n",
              "      fill: #FFFFFF;\n",
              "    }\n",
              "  </style>\n",
              "\n",
              "      <script>\n",
              "        const buttonEl =\n",
              "          document.querySelector('#df-bf1d0e8b-d216-4e8a-8289-829cf8fdeea3 button.colab-df-convert');\n",
              "        buttonEl.style.display =\n",
              "          google.colab.kernel.accessAllowed ? 'block' : 'none';\n",
              "\n",
              "        async function convertToInteractive(key) {\n",
              "          const element = document.querySelector('#df-bf1d0e8b-d216-4e8a-8289-829cf8fdeea3');\n",
              "          const dataTable =\n",
              "            await google.colab.kernel.invokeFunction('convertToInteractive',\n",
              "                                                     [key], {});\n",
              "          if (!dataTable) return;\n",
              "\n",
              "          const docLinkHtml = 'Like what you see? Visit the ' +\n",
              "            '<a target=\"_blank\" href=https://colab.research.google.com/notebooks/data_table.ipynb>data table notebook</a>'\n",
              "            + ' to learn more about interactive tables.';\n",
              "          element.innerHTML = '';\n",
              "          dataTable['output_type'] = 'display_data';\n",
              "          await google.colab.output.renderOutput(dataTable, element);\n",
              "          const docLink = document.createElement('div');\n",
              "          docLink.innerHTML = docLinkHtml;\n",
              "          element.appendChild(docLink);\n",
              "        }\n",
              "      </script>\n",
              "    </div>\n",
              "  </div>\n",
              "  "
            ],
            "text/plain": [
              "   Id  SepalLengthCm  SepalWidthCm  PetalLengthCm  PetalWidthCm      Species\n",
              "0   1            5.1           3.5            1.4           0.2  Iris-setosa\n",
              "1   2            4.9           3.0            1.4           0.2  Iris-setosa\n",
              "2   3            4.7           3.2            1.3           0.2  Iris-setosa\n",
              "3   4            4.6           3.1            1.5           0.2  Iris-setosa\n",
              "4   5            5.0           3.6            1.4           0.2  Iris-setosa"
            ]
          },
          "metadata": {},
          "execution_count": 8
        }
      ]
    },
    {
      "cell_type": "code",
      "source": [
        ""
      ],
      "metadata": {
        "id": "-XaVCpadm_q-"
      },
      "execution_count": null,
      "outputs": []
    },
    {
      "cell_type": "code",
      "source": [
        "#Display the number of rows & columns in dataframe\n",
        "irisdata.shape"
      ],
      "metadata": {
        "id": "d1GxS-yOmXbd",
        "colab": {
          "base_uri": "https://localhost:8080/"
        },
        "outputId": "6783f616-ef00-4480-be07-ce1ccf543c95"
      },
      "execution_count": null,
      "outputs": [
        {
          "output_type": "execute_result",
          "data": {
            "text/plain": [
              "(150, 6)"
            ]
          },
          "metadata": {},
          "execution_count": 9
        }
      ]
    },
    {
      "cell_type": "code",
      "source": [
        "\n"
      ],
      "metadata": {
        "id": "yFQob5s32nuY"
      },
      "execution_count": null,
      "outputs": []
    },
    {
      "cell_type": "code",
      "source": [
        "#Display column names in dataframe\n",
        "irisdata.columns"
      ],
      "metadata": {
        "id": "2OQ_mmafgw60",
        "colab": {
          "base_uri": "https://localhost:8080/"
        },
        "outputId": "ea93a454-9319-4eec-e35b-1c018afc5069"
      },
      "execution_count": null,
      "outputs": [
        {
          "output_type": "execute_result",
          "data": {
            "text/plain": [
              "Index(['Id', 'SepalLengthCm', 'SepalWidthCm', 'PetalLengthCm', 'PetalWidthCm',\n",
              "       'Species'],\n",
              "      dtype='object')"
            ]
          },
          "metadata": {},
          "execution_count": 10
        }
      ]
    },
    {
      "cell_type": "code",
      "source": [
        "#Perform Train Test Split\n",
        "from sklearn.model_selection import train_test_split\n",
        "from sklearn.tree import DecisionTreeClassifier\n",
        "X= irisdata[['SepalLengthCm','SepalWidthCm','PetalLengthCm','PetalWidthCm']]\n",
        "Y= irisdata['Species']\n",
        "print(X.shape, Y.shape)\n",
        "X_train,X_test,Y_train,Y_test=train_test_split(X,Y,random_state = 50, test_size=0.25)\n"
      ],
      "metadata": {
        "id": "z4q7eAt_CA-_",
        "colab": {
          "base_uri": "https://localhost:8080/"
        },
        "outputId": "43064911-da08-4d39-e184-8a484869d2b1"
      },
      "execution_count": null,
      "outputs": [
        {
          "output_type": "stream",
          "name": "stdout",
          "text": [
            "(150, 4) (150,)\n"
          ]
        }
      ]
    },
    {
      "cell_type": "code",
      "source": [
        "#Apply default criterion  Gini\n",
        "classifier = DecisionTreeClassifier()\n",
        "classifierfitted = classifier.fit(X_train, Y_train)\n",
        "print(classifier.criterion)\n",
        "Y_pred_train = classifier.predict(X_train)\n",
        "Y_pred_test =classifier.predict(X_test)\n"
      ],
      "metadata": {
        "id": "I5yix8gTncEk",
        "colab": {
          "base_uri": "https://localhost:8080/"
        },
        "outputId": "18dbe86d-bf67-4b02-d938-c07981504cf4"
      },
      "execution_count": null,
      "outputs": [
        {
          "output_type": "stream",
          "name": "stdout",
          "text": [
            "gini\n"
          ]
        }
      ]
    },
    {
      "cell_type": "markdown",
      "source": [
        "# New Section"
      ],
      "metadata": {
        "id": "ygsa17Me04uy"
      }
    },
    {
      "cell_type": "code",
      "source": [
        "#Display Accuracy on train data & test data\n",
        "from sklearn.metrics import accuracy_score\n",
        "print('Accuracy on train data using Gini-->', accuracy_score(Y_train, Y_pred_train))\n",
        "print('Accuracy on test data using Gini-->', accuracy_score(Y_test, Y_pred_test))\n"
      ],
      "metadata": {
        "id": "JqwNiVNLkNgI",
        "colab": {
          "base_uri": "https://localhost:8080/"
        },
        "outputId": "ad802cbf-1b4d-4412-a155-97f0dc317cf6"
      },
      "execution_count": null,
      "outputs": [
        {
          "output_type": "stream",
          "name": "stdout",
          "text": [
            "Accuracy on train data using Gini--> 1.0\n",
            "Accuracy on test data using Gini--> 0.9473684210526315\n"
          ]
        }
      ]
    },
    {
      "cell_type": "code",
      "source": [
        "#Change criterion to entropy\n",
        "classifier_entropy = DecisionTreeClassifier(criterion='entropy')\n",
        "entropyfitted =classifier_entropy.fit(X_train,Y_train)\n",
        "Y_pred_entropy_train=classifier_entropy.predict(X_train)\n",
        "Y_pred_entropy_test=classifier_entropy.predict(X_test)"
      ],
      "metadata": {
        "id": "JUUc23oypat4"
      },
      "execution_count": null,
      "outputs": []
    },
    {
      "cell_type": "code",
      "source": [
        "#Display Accuracy on train data & test data\n",
        "print('accuracy on train data using entropy-->',accuracy_score(Y_train,Y_pred_entropy_train))\n",
        "print('accuracy on test data using entropy-->',accuracy_score(Y_test,Y_pred_entropy_test))"
      ],
      "metadata": {
        "id": "ec8V0-V2nFSx",
        "colab": {
          "base_uri": "https://localhost:8080/"
        },
        "outputId": "9060b4b4-47b6-4464-a26b-18c599ab2978"
      },
      "execution_count": null,
      "outputs": [
        {
          "output_type": "stream",
          "name": "stdout",
          "text": [
            "accuracy on train data using entropy--> 1.0\n",
            "accuracy on test data using entropy--> 0.9473684210526315\n"
          ]
        }
      ]
    },
    {
      "cell_type": "code",
      "source": [
        "#Change criterion to entropy with min_samples_split to 50. Default value is 2\n",
        "clasifier_entropy1= DecisionTreeClassifier(criterion='entropy',min_samples_split=50)\n",
        "entropy1fitted = classifier_entropy.fit(X_train,Y_train)\n",
        "Y_pred_entropy1_train =classifier_entropy.predict(X_train)\n",
        "Y_pred_entropy1_test =classifier_entropy.predict(X_test)\n",
        "\n",
        "\n",
        "\n",
        "\n",
        "#Display Accuracy on train data & test data\n",
        "print('Accuracy on train data using entropy-->',accuracy_score(Y_train,Y_pred_entropy1_train))\n",
        "print('Accuracy on test data using entropy-->',accuracy_score(Y_test,Y_pred_entropy1_test))\n"
      ],
      "metadata": {
        "id": "aMPSnE2LHZWe",
        "colab": {
          "base_uri": "https://localhost:8080/"
        },
        "outputId": "f4e29c0c-ba3f-4071-fa15-9255761257aa"
      },
      "execution_count": null,
      "outputs": [
        {
          "output_type": "stream",
          "name": "stdout",
          "text": [
            "Accuracy on train data using entropy--> 1.0\n",
            "Accuracy on test data using entropy--> 0.9473684210526315\n"
          ]
        }
      ]
    },
    {
      "cell_type": "code",
      "source": [
        "#visualise the decision tree\n",
        "#import the modules needed\n",
        "from sklearn.tree import export_graphviz\n",
        "from io import StringIO\n",
        "from IPython.display import Image\n",
        "import pydotplus\n",
        "dot_data = StringIO()\n",
        "\n",
        "# Students can try using classifier, classifier_entropy and classifier_entropy1 as first parameter below.\n",
        "print('Using Classifier')\n",
        "export_graphviz(classifierfitted, out_file = dot_data)\n",
        "graph=pydotplus.graph_from_dot_data(dot_data.getvalue())\n",
        "Image(graph.create_png())\n",
        "\n"
      ],
      "metadata": {
        "id": "hnmJoObcuB7h",
        "colab": {
          "base_uri": "https://localhost:8080/",
          "height": 671
        },
        "outputId": "62acdfab-8474-4ac4-ad31-fce6633390a6"
      },
      "execution_count": null,
      "outputs": [
        {
          "output_type": "stream",
          "name": "stdout",
          "text": [
            "Using Classifier\n"
          ]
        },
        {
          "output_type": "execute_result",
          "data": {
            "image/png": "[encoded data removed]",
            "text/plain": [
              "<IPython.core.display.Image object>"
            ]
          },
          "metadata": {},
          "execution_count": 17
        }
      ]
    }
  ]
}
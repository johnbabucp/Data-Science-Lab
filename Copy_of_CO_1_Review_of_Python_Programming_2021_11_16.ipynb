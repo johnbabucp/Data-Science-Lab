{
  "nbformat": 4,
  "nbformat_minor": 0,
  "metadata": {
    "colab": {
      "name": "Copy of CO-1 Review of Python Programming_2021_11_16",
      "provenance": [],
      "collapsed_sections": [],
      "include_colab_link": true
    },
    "kernelspec": {
      "name": "python3",
      "display_name": "Python 3"
    }
  },
  "cells": [
    {
      "cell_type": "markdown",
      "metadata": {
        "id": "view-in-github",
        "colab_type": "text"
      },
      "source": [
        "<a href=\"https://colab.research.google.com/github/johnbabucp/Data-Science-Lab/blob/main/Copy_of_CO_1_Review_of_Python_Programming_2021_11_16.ipynb\" target=\"_parent\"><img src=\"https://colab.research.google.com/assets/colab-badge.svg\" alt=\"Open In Colab\"/></a>"
      ]
    },
    {
      "cell_type": "markdown",
      "metadata": {
        "id": "YZnBY81YDCCr"
      },
      "source": [
        "### Instructions\n",
        "\n",
        "Make a duplicate copy of google colab by clicking **File/ Save a copy in Drive option.** A duplicate copy will get created. It will open up in the new tab on your web browser .After that change **share settings**"
      ]
    },
    {
      "cell_type": "markdown",
      "metadata": {
        "id": "bEyBzxYRhrLG"
      },
      "source": [
        "#### CO-1 Review of Python Programming\n",
        "\n",
        "This colab is designed for you to practice and solve the activities that are based on the following concepts:\n",
        "\n",
        " 1. Python Lists \n",
        "\n",
        " 2. NumPy Arrays "
      ]
    },
    {
      "cell_type": "markdown",
      "metadata": {
        "id": "DPOFIO3EHncO"
      },
      "source": [
        "---"
      ]
    },
    {
      "cell_type": "markdown",
      "metadata": {
        "id": "8f6-uc0r9Q4h"
      },
      "source": [
        "### Activities"
      ]
    },
    {
      "cell_type": "markdown",
      "metadata": {
        "id": "q4fH06mIjuK3"
      },
      "source": [
        " Activity 1: Create a 3 X 3 Matrix\n",
        "\n",
        "To create a 3x3 matrix with values ranging from 2 to 10.\n",
        "\n",
        "**For Example**:\n",
        "\n",
        "```\n",
        "[[ 2  3  4]\n",
        " [ 5  6  7]\n",
        " [ 8  9 10]]\n",
        "```\n",
        "\n",
        "Follow the steps given below to achieve the desired result:\n",
        "\n",
        "  - **Step 1**: Import `numpy` module.\n",
        "\n",
        "  - **Step 2**: Use `arange()` function to create array of numbers from 2 to 10 and `reshape()` function to reshape your array into another array having 3 rows and 3 columns. Store this reshaped array in a variable `x`.\n",
        "\n",
        "  - **Step 3**: Print variable `x` to get the output.\n",
        "\n",
        " "
      ]
    },
    {
      "cell_type": "code",
      "metadata": {
        "id": "4EAoTskqg041",
        "colab": {
          "base_uri": "https://localhost:8080/"
        },
        "outputId": "5d2c7874-cf1b-4fb7-b0e3-e953d6992195"
      },
      "source": [
        "[] # Write your code here\n",
        "import numpy as np\n",
        "x = np .arange(2, 11).reshape((3,3))\n",
        "print (x)"
      ],
      "execution_count": null,
      "outputs": [
        {
          "output_type": "stream",
          "name": "stdout",
          "text": [
            "[[ 2  3  4]\n",
            " [ 5  6  7]\n",
            " [ 8  9 10]]\n"
          ]
        }
      ]
    },
    {
      "cell_type": "markdown",
      "metadata": {
        "id": "xJlPs9X9oeRw"
      },
      "source": [
        "---"
      ]
    },
    {
      "cell_type": "markdown",
      "metadata": {
        "id": "qA-b1CdeofKc"
      },
      "source": [
        "#### Activity 2: Change Dimension of an Array and Convert the NumPy Array into a List\n",
        "\n",
        "Write a program to change the dimension of an array (say `my_arr =[1, 2, 3, 4, 5, 6, 7, 8, 9]`) into a 3 X 3 (3 rows and 3 columns) array and convert this NumPy array into a list.\n",
        "\n",
        "**For Example:**\n",
        "```\n",
        "Original array is [1 2 3 4 5 6 7 8 9]\n",
        "Dimension is (9,)\n",
        "Change array shape to (3, 3) -> 3 rows and 3 columns \n",
        "[[1 2 3]\n",
        " [4 5 6]\n",
        " [7 8 9]]\n",
        "\n",
        "The data type of the converted variable is \n",
        " list\n",
        "```\n"
      ]
    },
    {
      "cell_type": "code",
      "metadata": {
        "id": "AtvPTG3kpBoS",
        "colab": {
          "base_uri": "https://localhost:8080/"
        },
        "outputId": "2402a0cd-1b84-4a9d-ebb8-60c799e9ac3a"
      },
      "source": [
        "[ ]\n",
        "my_arr = np.array([1, 2, 3, 4, 5, 6, 7, 8, 9,])\n",
        "reshaped_arr = np.reshape (my_arr , (3,3))\n",
        "print (reshaped_arr)\n",
        "print (type(my_arr))\n",
        "#conversion to python list\n",
        "my_list = my_arr.tolist()\n",
        "print (type(my_list))\n",
        "\n"
      ],
      "execution_count": null,
      "outputs": [
        {
          "output_type": "stream",
          "name": "stdout",
          "text": [
            "[[1 2 3]\n",
            " [4 5 6]\n",
            " [7 8 9]]\n",
            "<class 'numpy.ndarray'>\n",
            "<class 'list'>\n"
          ]
        }
      ]
    },
    {
      "cell_type": "markdown",
      "metadata": {
        "id": "KOVBiUSMzut1"
      },
      "source": [
        "---"
      ]
    },
    {
      "cell_type": "markdown",
      "metadata": {
        "id": "b4aeCDi0pkJz"
      },
      "source": [
        "#### Activity 3: Find Square Root \n",
        "\n",
        "Write a program to perform following task:\n",
        "-  Print the square root of numbers in the list.\n",
        "\n",
        "**For Example**:\n",
        "\n",
        "```\n",
        "list1 = [4, 16, 9, 1, 25]\n",
        "[2   4    3   1    5 ]\n",
        "\n",
        "```\n",
        "**Hint:** Use `np.sqrt()` function.\n",
        " "
      ]
    },
    {
      "cell_type": "code",
      "metadata": {
        "id": "d5ufKLNYzsIl",
        "colab": {
          "base_uri": "https://localhost:8080/"
        },
        "outputId": "e0d1eac6-7b89-4479-81a2-472ca5321753"
      },
      "source": [
        "    L = [4, 16, 9, 1, 25] # list\n",
        "    A = np.array(L) #converting to numpy array\n",
        "    R = []          # result array\n",
        "    #print(type(A))\n",
        "    for i in A:\n",
        "      x= int(np.sqrt(i))\n",
        "      R.append(x)\n",
        "    print (R)\n"
      ],
      "execution_count": null,
      "outputs": [
        {
          "output_type": "stream",
          "name": "stdout",
          "text": [
            "[2, 4, 3, 1, 5]\n"
          ]
        }
      ]
    },
    {
      "cell_type": "markdown",
      "metadata": {
        "id": "HSz7jRSlGxIO"
      },
      "source": [
        "---"
      ]
    },
    {
      "cell_type": "markdown",
      "metadata": {
        "id": "yBYfVsIkMapp"
      },
      "source": [
        "#### Activity 4: Create and Update a Null NumPy Array \n",
        "\n",
        "Create a null NumPy array of size 10 and update the sixth value to 11.\n",
        "\n",
        "A null array is basically an array with all elements as `0`.\n",
        "\n",
        "Follow the steps given below to achieve the desired result:\n",
        "\n",
        "- **Step 1:** Import the Numpy module as `np`.\n",
        "\n",
        "- **Step 2**: Create a null array by passing the size i.e. `10` inside the `np.zeros()` function and store it in a variable `null_arr`. \n",
        "\n",
        "- **Step 3**: Print the null array.\n",
        "\n",
        "- **Step 4**: Now update the sixth element of the array by using **list indexing** method. As you need to update the sixth element, the index must be `5`.\n",
        "\n",
        "- **Step 5**: Print the updated array in the output.\n",
        "\n"
      ]
    },
    {
      "cell_type": "code",
      "metadata": {
        "id": "1SkvwQ1bMap6",
        "colab": {
          "base_uri": "https://localhost:8080/"
        },
        "outputId": "b26e21eb-1520-48f0-e527-45b3023d65d1"
      },
      "source": [
        " # Write a program to create Null array of size 10 and update the sixth value to 11.\n",
        " A = np.zeros(10, dtype = int)\n",
        " print ('NULL ARRAY -> ', A)\n",
        " A[5] = 11\n",
        " print (' UPDATED ARRAY ->', A)\n",
        "\n"
      ],
      "execution_count": null,
      "outputs": [
        {
          "output_type": "stream",
          "name": "stdout",
          "text": [
            "NULL ARRAY ->  [0 0 0 0 0 0 0 0 0 0]\n",
            " UPDATED ARRAY -> [ 0  0  0  0  0 11  0  0  0  0]\n"
          ]
        }
      ]
    },
    {
      "cell_type": "markdown",
      "metadata": {
        "id": "g4IbWToh9uJb"
      },
      "source": [
        "In the above program we have created a null array by using the `np.zeros()` function of the `numpy` module.\n",
        "\n",
        "We have updated the 6th element to `11` by using list indexing method."
      ]
    },
    {
      "cell_type": "markdown",
      "metadata": {
        "id": "wY10aNk0Map9"
      },
      "source": [
        "---"
      ]
    },
    {
      "cell_type": "markdown",
      "metadata": {
        "id": "2LWcJiG8Map9"
      },
      "source": [
        "#### Activity 5: Populate a Number List\n",
        "\n",
        "Write a program that populates a list by numbers that lies in the range of 0 - 49 and also divisible by 5. Use List Comprehension method.\n",
        "\n",
        "**Output**: `[0, 5, 10, 15, 20, 25, 30, 35, 40, 45]`\n",
        "\n",
        "\n"
      ]
    },
    {
      "cell_type": "code",
      "metadata": {
        "id": "NSr2koqJMap-",
        "colab": {
          "base_uri": "https://localhost:8080/"
        },
        "outputId": "4c75dc4c-470b-440c-e774-e20a29c8d300"
      },
      "source": [
        "# Write a program to populate a number list divisible by 5 in a range 0 - 49\n",
        "A = [i for i in range(0, 49) if i%5 == 0]\n",
        "print (A)\n"
      ],
      "execution_count": null,
      "outputs": [
        {
          "output_type": "stream",
          "name": "stdout",
          "text": [
            "[0, 5, 10, 15, 20, 25, 30, 35, 40, 45]\n"
          ]
        }
      ]
    },
    {
      "cell_type": "markdown",
      "metadata": {
        "id": "yXOg0NUQ-Azb"
      },
      "source": [
        "Here, using list comprehension method we are running a `for` loop in range `0 - 49` and checking whether the number is divisible by `5` or not, using an `if` condition.\n",
        "\n",
        "If number satisfies the condition, then that number is appended to `number_list`."
      ]
    },
    {
      "cell_type": "markdown",
      "metadata": {
        "id": "jTiwP3uIMaqA"
      },
      "source": [
        "---"
      ]
    },
    {
      "cell_type": "markdown",
      "metadata": {
        "id": "UH27IpTXFL37"
      },
      "source": [
        "#### Activity 6: Convert List into Array \n",
        "\n",
        "Write a program to convert a list of numeric values into a one-dimensional NumPy array.\n",
        "\n",
        "**For Example:**\n",
        "\n",
        "**Input**: `mylist = [1.23, 23.32, 300, 16.37]`\n",
        "\n",
        "Data type of `mylist` = `list`\n",
        "\n",
        "**Output**: `numpy_array = [1.23, 23.32, 300, 16.37]`\n",
        "\n",
        "Data type of `numpy_array` = `numpy.ndarray`"
      ]
    },
    {
      "cell_type": "code",
      "metadata": {
        "id": "0ocKkCNpFWOY",
        "colab": {
          "base_uri": "https://localhost:8080/"
        },
        "outputId": "53e0fb53-2d28-4146-906b-1f1e6544f3a7"
      },
      "source": [
        " # Program to convert a list into one dimensional NumPy array\n",
        " mylist = [1.23, 23.32,300, 16.37]\n",
        " print (type(mylist))\n",
        " numpy_array = np.array(my_list)\n",
        " print ('NUMPY ARRAY =', numpy_array)\n",
        " print (type(numpy_array))\n",
        "\n",
        "\n",
        "\n",
        "\n",
        "  \n",
        "\n",
        "\n"
      ],
      "execution_count": null,
      "outputs": [
        {
          "output_type": "stream",
          "name": "stdout",
          "text": [
            "<class 'list'>\n",
            "NUMPY ARRAY = [1 2 3 4 5 6 7 8 9]\n",
            "<class 'numpy.ndarray'>\n"
          ]
        }
      ]
    }
  ]
}
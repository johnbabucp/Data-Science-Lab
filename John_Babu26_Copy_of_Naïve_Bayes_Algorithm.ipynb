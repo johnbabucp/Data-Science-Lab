{
  "nbformat": 4,
  "nbformat_minor": 0,
  "metadata": {
    "colab": {
      "name": "John Babu26- Copy of Naïve Bayes Algorithm.ipynb",
      "provenance": [],
      "collapsed_sections": [],
      "include_colab_link": true
    },
    "kernelspec": {
      "name": "python3",
      "display_name": "Python 3"
    },
    "language_info": {
      "name": "python"
    }
  },
  "cells": [
    {
      "cell_type": "markdown",
      "metadata": {
        "id": "view-in-github",
        "colab_type": "text"
      },
      "source": [
        "<a href=\"https://colab.research.google.com/github/johnbabucp/Data-Science-Lab/blob/main/John_Babu26_Copy_of_Na%C3%AFve_Bayes_Algorithm.ipynb\" target=\"_parent\"><img src=\"https://colab.research.google.com/assets/colab-badge.svg\" alt=\"Open In Colab\"/></a>"
      ]
    },
    {
      "cell_type": "markdown",
      "source": [
        "Aim: Program to implement Naïve Bayes Algorithm using any standard dataset\n",
        "available in the public domain and find the accuracy of the algorithm"
      ],
      "metadata": {
        "id": "f4TwDjLCpTcn"
      }
    },
    {
      "cell_type": "markdown",
      "source": [
        "\n",
        "Short notes: Naive Bayes\n",
        "\n",
        "Bayes’ Theorem provides a way that we can calculate the probability of a piece of data belonging to a given class, given our prior knowledge. Bayes’ Theorem is stated as:\n",
        "\n",
        "P(class|data) = (P(data|class) * P(class)) / P(data)\n",
        "\n",
        "Where P(class|data) is the probability of class given the provided data."
      ],
      "metadata": {
        "id": "_23W0JVJq1-V"
      }
    },
    {
      "cell_type": "markdown",
      "source": [
        "We are using Iris Dataset. The Iris Flower Dataset involves predicting the flower species given measurements of iris flowers.\n",
        "\n",
        "It is a multiclass classification problem. The number of observations for each class is balanced. There are 150 observations with 4 input variables and 1 output variable. The variable names are as follows:\n",
        "\n",
        "Sepal length in cm.\n",
        "\n",
        "Sepal width in cm.\n",
        "\n",
        "Petal length in cm.\n",
        "\n",
        "Petal width in cm., and\n",
        "\n",
        "Class.\n",
        "\n",
        "Algorithm:\n",
        "\n",
        "Step 1: Separate By Class.\n",
        "\n",
        "Step 2: Summarize Dataset.\n",
        "\n",
        "Step 3: Summarize Data By Class.\n",
        "\n",
        "Step 4: Gaussian Probability Density Function.\n",
        "\n",
        "Step 5: Class Probabilities."
      ],
      "metadata": {
        "id": "Aq3NJZhGrENv"
      }
    },
    {
      "cell_type": "code",
      "source": [
        "#Import Modules\n",
        "import pandas as pd\n",
        "from sklearn import neighbors, datasets, preprocessing\n",
        "from sklearn.model_selection import train_test_split\n",
        "#Load iris dataset & do train_test_split \n",
        "df = datasets.load_iris()\n",
        "X, y = df.data[:,:], df.target\n",
        "xTrain, xTest, yTrain, yTest = train_test_split(X, y, stratify = y, test_size = 0.33, random_state= 42)\n",
        "\n",
        "\n"
      ],
      "metadata": {
        "id": "N3sWnWz_rxIR"
      },
      "execution_count": null,
      "outputs": []
    },
    {
      "cell_type": "code",
      "source": [
        "#Feature Scaling\n",
        "scalar = preprocessing.StandardScaler().fit(xTrain)\n",
        "xTrain = scalar.transform(xTrain)\n",
        "xTest = scalar.transform(xTest)"
      ],
      "metadata": {
        "id": "Jq-Uyizutrxu"
      },
      "execution_count": null,
      "outputs": []
    },
    {
      "cell_type": "markdown",
      "source": [
        "In this step, we introduce the class GaussianNB that is used from the sklearn.naive_bayes library. Here, we have used a Gaussian model, there are several other models such as Bernoulli, Categorical and Multinomial. Here, we assign the GaussianNB class to the variable classifier and fit the X_train and y_train values to it for training purpose."
      ],
      "metadata": {
        "id": "fHscTWiVt8pC"
      }
    },
    {
      "cell_type": "code",
      "source": [
        "#Implement Naive Bayes\n",
        "from sklearn.naive_bayes import GaussianNB\n",
        "from sklearn.metrics import confusion_matrix, classification_report, accuracy_score\n",
        "NB = GaussianNB()\n",
        "NB.fit(xTrain,yTrain)"
      ],
      "metadata": {
        "id": "u0z9mzISuBKw",
        "colab": {
          "base_uri": "https://localhost:8080/"
        },
        "outputId": "00b61976-b806-4cf0-816c-844c1d2c0993"
      },
      "execution_count": null,
      "outputs": [
        {
          "output_type": "execute_result",
          "data": {
            "text/plain": [
              "GaussianNB()"
            ]
          },
          "metadata": {},
          "execution_count": 3
        }
      ]
    },
    {
      "cell_type": "code",
      "source": [
        "#Predict the values for test data  \n",
        "yPred = NB.predict(xTest)\n",
        "# Display accuracy score & display confusion matrix & classification report\n",
        "print(\"accuracy->\", accuracy_score(yTest, yPred))\n",
        "print(\"Confusion Matrix : \")\n",
        "print(confusion_matrix(yTest, yPred))\n",
        "print(\"Classification Report : \")\n",
        "print(classification_report(yTest, yPred))"
      ],
      "metadata": {
        "id": "hv382A48usEq",
        "colab": {
          "base_uri": "https://localhost:8080/"
        },
        "outputId": "ba3991db-2ae5-4246-e628-95b6eeda83eb"
      },
      "execution_count": null,
      "outputs": [
        {
          "output_type": "stream",
          "name": "stdout",
          "text": [
            "accuracy-> 0.92\n",
            "Confusion Matrix : \n",
            "[[16  0  0]\n",
            " [ 0 16  1]\n",
            " [ 0  3 14]]\n",
            "Classification Report : \n",
            "              precision    recall  f1-score   support\n",
            "\n",
            "           0       1.00      1.00      1.00        16\n",
            "           1       0.84      0.94      0.89        17\n",
            "           2       0.93      0.82      0.87        17\n",
            "\n",
            "    accuracy                           0.92        50\n",
            "   macro avg       0.93      0.92      0.92        50\n",
            "weighted avg       0.92      0.92      0.92        50\n",
            "\n"
          ]
        }
      ]
    },
    {
      "cell_type": "markdown",
      "source": [
        "From the above confusion matrix, we infer that, out of 45 test set data, 44 were correctly classified and only 1 was incorrectly classified. This gives us a high accuracy of 97.7%."
      ],
      "metadata": {
        "id": "JFg1mUCswAIp"
      }
    },
    {
      "cell_type": "code",
      "source": [
        "#BernoulliNB\n",
        "from sklearn.naive_bayes import BernoulliNB\n",
        "NB = BernoulliNB()\n",
        "NB.fit(xTrain,yTrain)\n",
        "#Predict the values for test data  \n",
        "yPred = NB.predict(xTest)\n",
        "# Display accuracy score & display confusion matrix & classification report\n",
        "print(\"accuracy->\", accuracy_score(yTest, yPred))\n",
        "print(\"Confusion Matrix : \")\n",
        "print(confusion_matrix(yTest, yPred))\n",
        "print(\"Classification Report : \")\n",
        "print(classification_report(yTest, yPred))"
      ],
      "metadata": {
        "colab": {
          "base_uri": "https://localhost:8080/"
        },
        "id": "uGhnQPcyFVYu",
        "outputId": "7590156e-2c18-4e9d-a31b-f7c530674c54"
      },
      "execution_count": null,
      "outputs": [
        {
          "output_type": "stream",
          "name": "stdout",
          "text": [
            "accuracy-> 0.82\n",
            "Confusion Matrix : \n",
            "[[16  0  0]\n",
            " [ 2  9  6]\n",
            " [ 0  1 16]]\n",
            "Classification Report : \n",
            "              precision    recall  f1-score   support\n",
            "\n",
            "           0       0.89      1.00      0.94        16\n",
            "           1       0.90      0.53      0.67        17\n",
            "           2       0.73      0.94      0.82        17\n",
            "\n",
            "    accuracy                           0.82        50\n",
            "   macro avg       0.84      0.82      0.81        50\n",
            "weighted avg       0.84      0.82      0.81        50\n",
            "\n"
          ]
        }
      ]
    }
  ]
}